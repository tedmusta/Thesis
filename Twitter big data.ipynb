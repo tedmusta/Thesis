{
 "cells": [
  {
   "cell_type": "code",
   "execution_count": 1,
   "id": "honest-concentration",
   "metadata": {},
   "outputs": [],
   "source": [
    "import pandas as pd\n",
    "import numpy as np\n",
    "import tweepy\n",
    "import os"
   ]
  },
  {
   "cell_type": "code",
   "execution_count": 2,
   "id": "coral-portrait",
   "metadata": {},
   "outputs": [],
   "source": [
    "from tqdm import tqdm_notebook"
   ]
  },
  {
   "cell_type": "code",
   "execution_count": 3,
   "id": "robust-ozone",
   "metadata": {},
   "outputs": [],
   "source": [
    "import api_auth as aa"
   ]
  },
  {
   "cell_type": "code",
   "execution_count": 4,
   "id": "mature-publication",
   "metadata": {},
   "outputs": [],
   "source": [
    "df = pd.read_csv('C:/Users/Gebruiker/Desktop/Master thesis/uselection_tweets_1jul_11nov.csv', nrows= 5000, sep = ';')"
   ]
  },
  {
   "cell_type": "code",
   "execution_count": 5,
   "id": "central-handling",
   "metadata": {},
   "outputs": [
    {
     "data": {
      "text/html": [
       "<div>\n",
       "<style scoped>\n",
       "    .dataframe tbody tr th:only-of-type {\n",
       "        vertical-align: middle;\n",
       "    }\n",
       "\n",
       "    .dataframe tbody tr th {\n",
       "        vertical-align: top;\n",
       "    }\n",
       "\n",
       "    .dataframe thead th {\n",
       "        text-align: right;\n",
       "    }\n",
       "</style>\n",
       "<table border=\"1\" class=\"dataframe\">\n",
       "  <thead>\n",
       "    <tr style=\"text-align: right;\">\n",
       "      <th></th>\n",
       "      <th>Created-At</th>\n",
       "      <th>From-User-Id</th>\n",
       "      <th>To-User-Id</th>\n",
       "      <th>Language</th>\n",
       "      <th>Retweet-Count</th>\n",
       "      <th>PartyName</th>\n",
       "      <th>Id</th>\n",
       "      <th>Score</th>\n",
       "      <th>Scoring String</th>\n",
       "      <th>Negativity</th>\n",
       "      <th>Positivity</th>\n",
       "      <th>Uncovered Tokens</th>\n",
       "      <th>Total Tokens</th>\n",
       "    </tr>\n",
       "  </thead>\n",
       "  <tbody>\n",
       "    <tr>\n",
       "      <th>0</th>\n",
       "      <td>7/1/20 7:44 PM</td>\n",
       "      <td>1223446325758394369</td>\n",
       "      <td>387882597</td>\n",
       "      <td>en</td>\n",
       "      <td>0.0</td>\n",
       "      <td>BothParty</td>\n",
       "      <td>1278368973948694528</td>\n",
       "      <td>0.102564</td>\n",
       "      <td>yep (0.31)  torturing (-0.77)  care (0.56)</td>\n",
       "      <td>0.769231</td>\n",
       "      <td>0.871795</td>\n",
       "      <td>21</td>\n",
       "      <td>24</td>\n",
       "    </tr>\n",
       "    <tr>\n",
       "      <th>1</th>\n",
       "      <td>7/1/20 7:44 PM</td>\n",
       "      <td>1001407960252342273</td>\n",
       "      <td>-1</td>\n",
       "      <td>en</td>\n",
       "      <td>178.0</td>\n",
       "      <td>Republicans</td>\n",
       "      <td>1278368973923528704</td>\n",
       "      <td>-0.589744</td>\n",
       "      <td>ugly (-0.59)</td>\n",
       "      <td>0.589744</td>\n",
       "      <td>0.000000</td>\n",
       "      <td>22</td>\n",
       "      <td>23</td>\n",
       "    </tr>\n",
       "    <tr>\n",
       "      <th>2</th>\n",
       "      <td>7/1/20 7:44 PM</td>\n",
       "      <td>1178522693840392195</td>\n",
       "      <td>-1</td>\n",
       "      <td>en</td>\n",
       "      <td>2.0</td>\n",
       "      <td>Democrats</td>\n",
       "      <td>1278368973910937600</td>\n",
       "      <td>0.692308</td>\n",
       "      <td>okay (0.23)  lol (0.46)</td>\n",
       "      <td>0.000000</td>\n",
       "      <td>0.692308</td>\n",
       "      <td>17</td>\n",
       "      <td>19</td>\n",
       "    </tr>\n",
       "    <tr>\n",
       "      <th>3</th>\n",
       "      <td>7/1/20 7:44 PM</td>\n",
       "      <td>64267482</td>\n",
       "      <td>65497475</td>\n",
       "      <td>en</td>\n",
       "      <td>0.0</td>\n",
       "      <td>Republicans</td>\n",
       "      <td>1278368973893951489</td>\n",
       "      <td>-1.461538</td>\n",
       "      <td>damage (-0.56)  incompetent (-0.54)  resign (-...</td>\n",
       "      <td>1.461538</td>\n",
       "      <td>0.000000</td>\n",
       "      <td>30</td>\n",
       "      <td>33</td>\n",
       "    </tr>\n",
       "    <tr>\n",
       "      <th>4</th>\n",
       "      <td>7/1/20 7:44 PM</td>\n",
       "      <td>1068507190103699456</td>\n",
       "      <td>-1</td>\n",
       "      <td>en</td>\n",
       "      <td>28.0</td>\n",
       "      <td>Republicans</td>\n",
       "      <td>1278368973881511936</td>\n",
       "      <td>0.025641</td>\n",
       "      <td>clean (0.44)  threat (-0.62)  admit (0.21)</td>\n",
       "      <td>0.615385</td>\n",
       "      <td>0.641026</td>\n",
       "      <td>28</td>\n",
       "      <td>31</td>\n",
       "    </tr>\n",
       "  </tbody>\n",
       "</table>\n",
       "</div>"
      ],
      "text/plain": [
       "       Created-At         From-User-Id  To-User-Id Language  Retweet-Count  \\\n",
       "0  7/1/20 7:44 PM  1223446325758394369   387882597       en            0.0   \n",
       "1  7/1/20 7:44 PM  1001407960252342273          -1       en          178.0   \n",
       "2  7/1/20 7:44 PM  1178522693840392195          -1       en            2.0   \n",
       "3  7/1/20 7:44 PM             64267482    65497475       en            0.0   \n",
       "4  7/1/20 7:44 PM  1068507190103699456          -1       en           28.0   \n",
       "\n",
       "     PartyName                   Id     Score  \\\n",
       "0    BothParty  1278368973948694528  0.102564   \n",
       "1  Republicans  1278368973923528704 -0.589744   \n",
       "2    Democrats  1278368973910937600  0.692308   \n",
       "3  Republicans  1278368973893951489 -1.461538   \n",
       "4  Republicans  1278368973881511936  0.025641   \n",
       "\n",
       "                                      Scoring String  Negativity  Positivity  \\\n",
       "0         yep (0.31)  torturing (-0.77)  care (0.56)    0.769231    0.871795   \n",
       "1                                       ugly (-0.59)    0.589744    0.000000   \n",
       "2                            okay (0.23)  lol (0.46)    0.000000    0.692308   \n",
       "3  damage (-0.56)  incompetent (-0.54)  resign (-...    1.461538    0.000000   \n",
       "4         clean (0.44)  threat (-0.62)  admit (0.21)    0.615385    0.641026   \n",
       "\n",
       "   Uncovered Tokens  Total Tokens  \n",
       "0                21            24  \n",
       "1                22            23  \n",
       "2                17            19  \n",
       "3                30            33  \n",
       "4                28            31  "
      ]
     },
     "execution_count": 5,
     "metadata": {},
     "output_type": "execute_result"
    }
   ],
   "source": [
    "df.head()"
   ]
  },
  {
   "cell_type": "code",
   "execution_count": 6,
   "id": "overall-company",
   "metadata": {},
   "outputs": [],
   "source": [
    "tweet_ids = df['Id'].tolist()"
   ]
  },
  {
   "cell_type": "code",
   "execution_count": 14,
   "id": "promising-speech",
   "metadata": {
    "scrolled": true
   },
   "outputs": [],
   "source": [
    "array= ['Republicans']\n",
    "df = df.loc[df['PartyName'].isin(array)]\n",
    "df.Score.mean()"
   ]
  },
  {
   "cell_type": "code",
   "execution_count": 22,
   "id": "visible-championship",
   "metadata": {},
   "outputs": [],
   "source": [
    "array= ['Democrats', 'BothParty']\n",
    "df = df.loc[df['PartyName'].isin(array)]\n"
   ]
  },
  {
   "cell_type": "code",
   "execution_count": 24,
   "id": "adult-return",
   "metadata": {},
   "outputs": [
    {
     "data": {
      "text/plain": [
       "0.09041835357624832"
      ]
     },
     "execution_count": 24,
     "metadata": {},
     "output_type": "execute_result"
    }
   ],
   "source": [
    "df.Score.mean()"
   ]
  },
  {
   "cell_type": "code",
   "execution_count": 24,
   "id": "peripheral-norman",
   "metadata": {},
   "outputs": [
    {
     "data": {
      "text/plain": [
       "1"
      ]
     },
     "execution_count": 24,
     "metadata": {},
     "output_type": "execute_result"
    }
   ],
   "source": [
    "from win32com.client import Dispatch\n",
    "\n",
    "speak = Dispatch(\"SAPI.SpVoice\").Speak\n",
    "\n",
    "speak(\"motherfucker\")"
   ]
  },
  {
   "cell_type": "code",
   "execution_count": 7,
   "id": "sweet-percentage",
   "metadata": {},
   "outputs": [
    {
     "ename": "NameError",
     "evalue": "name 'consumer_key' is not defined",
     "output_type": "error",
     "traceback": [
      "\u001b[1;31m---------------------------------------------------------------------------\u001b[0m",
      "\u001b[1;31mNameError\u001b[0m                                 Traceback (most recent call last)",
      "\u001b[1;32m<ipython-input-7-241fba2d7977>\u001b[0m in \u001b[0;36m<module>\u001b[1;34m\u001b[0m\n\u001b[1;32m----> 1\u001b[1;33m \u001b[0mconsumer_key\u001b[0m\u001b[1;33m\u001b[0m\u001b[1;33m\u001b[0m\u001b[0m\n\u001b[0m",
      "\u001b[1;31mNameError\u001b[0m: name 'consumer_key' is not defined"
     ]
    }
   ],
   "source": [
    "consumer_key"
   ]
  },
  {
   "cell_type": "code",
   "execution_count": null,
   "id": "catholic-hollow",
   "metadata": {},
   "outputs": [
    {
     "name": "stderr",
     "output_type": "stream",
     "text": [
      "<ipython-input-11-9892376b759e>:4: TqdmDeprecationWarning: This function will be removed in tqdm==5.0.0\n",
      "Please use `tqdm.notebook.tqdm` instead of `tqdm.tqdm_notebook`\n",
      "  for i in tqdm_notebook(tweet_ids):\n"
     ]
    },
    {
     "data": {
      "application/vnd.jupyter.widget-view+json": {
       "model_id": "e25aa4f3df3d47f695a9280fcdee622a",
       "version_major": 2,
       "version_minor": 0
      },
      "text/plain": [
       "HBox(children=(HTML(value=''), FloatProgress(value=0.0, max=5000.0), HTML(value='')))"
      ]
     },
     "metadata": {},
     "output_type": "display_data"
    }
   ],
   "source": [
    "# fetching the status\n",
    "tweet_text = []\n",
    "\n",
    "for i in tqdm_notebook(tweet_ids):\n",
    "    try:\n",
    "        status = aa.api.get_status(i)\n",
    "        # fetching the text attribute\n",
    "        text = status.text\n",
    "        tweet_text.append(text)\n",
    "    except Exception as e:\n",
    "        continue\n",
    "  \n",
    "print(\"The text of the status is : \\n\\n\" + text)\n",
    "\n",
    "from win32com.client import Dispatch\n",
    "\n",
    "speak = Dispatch(\"SAPI.SpVoice\").Speak\n",
    "\n",
    "speak(\"motherfucker\")"
   ]
  },
  {
   "cell_type": "code",
   "execution_count": 26,
   "id": "green-possible",
   "metadata": {},
   "outputs": [],
   "source": [
    "tweet_ids_series = pd.DataFrame(tweet_text)\n",
    "df_with_tweets = pd.concat([df, tweet_ids_series], axis = 1)"
   ]
  },
  {
   "cell_type": "code",
   "execution_count": 30,
   "id": "expired-disney",
   "metadata": {},
   "outputs": [
    {
     "data": {
      "text/plain": [
       "[]"
      ]
     },
     "execution_count": 30,
     "metadata": {},
     "output_type": "execute_result"
    }
   ],
   "source": [
    "tweet_text"
   ]
  },
  {
   "cell_type": "code",
   "execution_count": 52,
   "id": "dying-commissioner",
   "metadata": {},
   "outputs": [
    {
     "ename": "ValueError",
     "evalue": "Cannot merge a Series without a name",
     "output_type": "error",
     "traceback": [
      "\u001b[1;31m---------------------------------------------------------------------------\u001b[0m",
      "\u001b[1;31mValueError\u001b[0m                                Traceback (most recent call last)",
      "\u001b[1;32m<ipython-input-52-38dde4008cfd>\u001b[0m in \u001b[0;36m<module>\u001b[1;34m\u001b[0m\n\u001b[1;32m----> 1\u001b[1;33m \u001b[0mdf\u001b[0m\u001b[1;33m.\u001b[0m\u001b[0mmerge\u001b[0m\u001b[1;33m(\u001b[0m\u001b[0mtweet_ids_series\u001b[0m\u001b[1;33m)\u001b[0m\u001b[1;33m\u001b[0m\u001b[1;33m\u001b[0m\u001b[0m\n\u001b[0m",
      "\u001b[1;32m~\\anaconda3\\lib\\site-packages\\pandas\\core\\frame.py\u001b[0m in \u001b[0;36mmerge\u001b[1;34m(self, right, how, on, left_on, right_on, left_index, right_index, sort, suffixes, copy, indicator, validate)\u001b[0m\n\u001b[0;32m   7944\u001b[0m         \u001b[1;32mfrom\u001b[0m \u001b[0mpandas\u001b[0m\u001b[1;33m.\u001b[0m\u001b[0mcore\u001b[0m\u001b[1;33m.\u001b[0m\u001b[0mreshape\u001b[0m\u001b[1;33m.\u001b[0m\u001b[0mmerge\u001b[0m \u001b[1;32mimport\u001b[0m \u001b[0mmerge\u001b[0m\u001b[1;33m\u001b[0m\u001b[1;33m\u001b[0m\u001b[0m\n\u001b[0;32m   7945\u001b[0m \u001b[1;33m\u001b[0m\u001b[0m\n\u001b[1;32m-> 7946\u001b[1;33m         return merge(\n\u001b[0m\u001b[0;32m   7947\u001b[0m             \u001b[0mself\u001b[0m\u001b[1;33m,\u001b[0m\u001b[1;33m\u001b[0m\u001b[1;33m\u001b[0m\u001b[0m\n\u001b[0;32m   7948\u001b[0m             \u001b[0mright\u001b[0m\u001b[1;33m,\u001b[0m\u001b[1;33m\u001b[0m\u001b[1;33m\u001b[0m\u001b[0m\n",
      "\u001b[1;32m~\\anaconda3\\lib\\site-packages\\pandas\\core\\reshape\\merge.py\u001b[0m in \u001b[0;36mmerge\u001b[1;34m(left, right, how, on, left_on, right_on, left_index, right_index, sort, suffixes, copy, indicator, validate)\u001b[0m\n\u001b[0;32m     72\u001b[0m     \u001b[0mvalidate\u001b[0m\u001b[1;33m=\u001b[0m\u001b[1;32mNone\u001b[0m\u001b[1;33m,\u001b[0m\u001b[1;33m\u001b[0m\u001b[1;33m\u001b[0m\u001b[0m\n\u001b[0;32m     73\u001b[0m ) -> \"DataFrame\":\n\u001b[1;32m---> 74\u001b[1;33m     op = _MergeOperation(\n\u001b[0m\u001b[0;32m     75\u001b[0m         \u001b[0mleft\u001b[0m\u001b[1;33m,\u001b[0m\u001b[1;33m\u001b[0m\u001b[1;33m\u001b[0m\u001b[0m\n\u001b[0;32m     76\u001b[0m         \u001b[0mright\u001b[0m\u001b[1;33m,\u001b[0m\u001b[1;33m\u001b[0m\u001b[1;33m\u001b[0m\u001b[0m\n",
      "\u001b[1;32m~\\anaconda3\\lib\\site-packages\\pandas\\core\\reshape\\merge.py\u001b[0m in \u001b[0;36m__init__\u001b[1;34m(self, left, right, how, on, left_on, right_on, axis, left_index, right_index, sort, suffixes, copy, indicator, validate)\u001b[0m\n\u001b[0;32m    592\u001b[0m     ):\n\u001b[0;32m    593\u001b[0m         \u001b[0m_left\u001b[0m \u001b[1;33m=\u001b[0m \u001b[0m_validate_operand\u001b[0m\u001b[1;33m(\u001b[0m\u001b[0mleft\u001b[0m\u001b[1;33m)\u001b[0m\u001b[1;33m\u001b[0m\u001b[1;33m\u001b[0m\u001b[0m\n\u001b[1;32m--> 594\u001b[1;33m         \u001b[0m_right\u001b[0m \u001b[1;33m=\u001b[0m \u001b[0m_validate_operand\u001b[0m\u001b[1;33m(\u001b[0m\u001b[0mright\u001b[0m\u001b[1;33m)\u001b[0m\u001b[1;33m\u001b[0m\u001b[1;33m\u001b[0m\u001b[0m\n\u001b[0m\u001b[0;32m    595\u001b[0m         \u001b[0mself\u001b[0m\u001b[1;33m.\u001b[0m\u001b[0mleft\u001b[0m \u001b[1;33m=\u001b[0m \u001b[0mself\u001b[0m\u001b[1;33m.\u001b[0m\u001b[0morig_left\u001b[0m \u001b[1;33m=\u001b[0m \u001b[0m_left\u001b[0m\u001b[1;33m\u001b[0m\u001b[1;33m\u001b[0m\u001b[0m\n\u001b[0;32m    596\u001b[0m         \u001b[0mself\u001b[0m\u001b[1;33m.\u001b[0m\u001b[0mright\u001b[0m \u001b[1;33m=\u001b[0m \u001b[0mself\u001b[0m\u001b[1;33m.\u001b[0m\u001b[0morig_right\u001b[0m \u001b[1;33m=\u001b[0m \u001b[0m_right\u001b[0m\u001b[1;33m\u001b[0m\u001b[1;33m\u001b[0m\u001b[0m\n",
      "\u001b[1;32m~\\anaconda3\\lib\\site-packages\\pandas\\core\\reshape\\merge.py\u001b[0m in \u001b[0;36m_validate_operand\u001b[1;34m(obj)\u001b[0m\n\u001b[0;32m   2055\u001b[0m     \u001b[1;32melif\u001b[0m \u001b[0misinstance\u001b[0m\u001b[1;33m(\u001b[0m\u001b[0mobj\u001b[0m\u001b[1;33m,\u001b[0m \u001b[0mABCSeries\u001b[0m\u001b[1;33m)\u001b[0m\u001b[1;33m:\u001b[0m\u001b[1;33m\u001b[0m\u001b[1;33m\u001b[0m\u001b[0m\n\u001b[0;32m   2056\u001b[0m         \u001b[1;32mif\u001b[0m \u001b[0mobj\u001b[0m\u001b[1;33m.\u001b[0m\u001b[0mname\u001b[0m \u001b[1;32mis\u001b[0m \u001b[1;32mNone\u001b[0m\u001b[1;33m:\u001b[0m\u001b[1;33m\u001b[0m\u001b[1;33m\u001b[0m\u001b[0m\n\u001b[1;32m-> 2057\u001b[1;33m             \u001b[1;32mraise\u001b[0m \u001b[0mValueError\u001b[0m\u001b[1;33m(\u001b[0m\u001b[1;34m\"Cannot merge a Series without a name\"\u001b[0m\u001b[1;33m)\u001b[0m\u001b[1;33m\u001b[0m\u001b[1;33m\u001b[0m\u001b[0m\n\u001b[0m\u001b[0;32m   2058\u001b[0m         \u001b[1;32melse\u001b[0m\u001b[1;33m:\u001b[0m\u001b[1;33m\u001b[0m\u001b[1;33m\u001b[0m\u001b[0m\n\u001b[0;32m   2059\u001b[0m             \u001b[1;32mreturn\u001b[0m \u001b[0mobj\u001b[0m\u001b[1;33m.\u001b[0m\u001b[0mto_frame\u001b[0m\u001b[1;33m(\u001b[0m\u001b[1;33m)\u001b[0m\u001b[1;33m\u001b[0m\u001b[1;33m\u001b[0m\u001b[0m\n",
      "\u001b[1;31mValueError\u001b[0m: Cannot merge a Series without a name"
     ]
    }
   ],
   "source": [
    "# df.merge(tweet_ids_series)"
   ]
  },
  {
   "cell_type": "code",
   "execution_count": null,
   "id": "basic-beach",
   "metadata": {},
   "outputs": [],
   "source": [
    "df.merge()"
   ]
  }
 ],
 "metadata": {
  "kernelspec": {
   "display_name": "Python 3",
   "language": "python",
   "name": "python3"
  },
  "language_info": {
   "codemirror_mode": {
    "name": "ipython",
    "version": 3
   },
   "file_extension": ".py",
   "mimetype": "text/x-python",
   "name": "python",
   "nbconvert_exporter": "python",
   "pygments_lexer": "ipython3",
   "version": "3.8.5"
  }
 },
 "nbformat": 4,
 "nbformat_minor": 5
}
